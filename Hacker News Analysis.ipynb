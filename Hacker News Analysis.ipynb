{
 "cells": [
  {
   "cell_type": "markdown",
   "metadata": {},
   "source": [
    "# Hacker News analysis\n",
    "\n",
    "In this project I will be analyzing a data set from the popular website <a href=\"https://news.ycombinator.com/\">Hacker News</a>. This <a href=\"https://www.kaggle.com/hacker-news/hacker-news-posts\">data set</a> contains 293,119 rows of user submitted posts that contain at least one comment.\n",
    "\n",
    "A brief description of the website; Hacker News is a social news website focusing on areas of computer science and entrepreneurship. Orginally, it was created with an intention that the site would resemble reddit; in terms of how users downvote, upvote or comment on posts. Hence, the site is group a community of users which is constantly administered and moderated.\n",
    "HN (Hacker News) also has two tags; Ask HN and Show HN. The ask tags consists of questions posed by users which is openly asked to the community. Below is an example of questions posed under this tag. \n",
    "\n",
    "\n",
    "<img src=\"Project_images/Ask.png\">\n",
    "\n",
    "The Show HN tag consists of users displaying or showcasing their creations or anything in general. The community can provide their feedback, upvote or downvote respectively. Below is an example of articles displayed under this tag.\n",
    "\n",
    "\n",
    "<img src=\"Project_images/Show.png\">"
   ]
  },
  {
   "cell_type": "markdown",
   "metadata": {},
   "source": [
    "## Exploring Hacker News Posts\n",
    "\n",
    "There are two main goals in this project:\n",
    "\n",
    "* To determine which posts between the subjects Ask HN or Show HN receieve more comments\n",
    "* To determine what time of day has the biggest influence on number of comments\n",
    "\n",
    "There are also two side goals:\n",
    "\n",
    "* To determine which posts between the subjects Ask HN or Show HN receieve more points\n",
    "* To determine what time of day has the biggest influence on number of points"
   ]
  },
  {
   "cell_type": "code",
   "execution_count": 1,
   "metadata": {},
   "outputs": [
    {
     "name": "stdout",
     "output_type": "stream",
     "text": [
      "['id', 'title', 'url', 'num_points', 'num_comments', 'author', 'created_at'] \n",
      "\n",
      "['12579008', 'You have two days to comment if you want stem cells to be classified as your own', 'http://www.regulations.gov/document?D=FDA-2015-D-3719-0018', '1', '0', 'altstar', '9/26/2016 3:26']\n",
      "['12579005', 'SQLAR  the SQLite Archiver', 'https://www.sqlite.org/sqlar/doc/trunk/README.md', '1', '0', 'blacksqr', '9/26/2016 3:24']\n",
      "['12578997', 'What if we just printed a flatscreen television on the side of our boxes?', 'https://medium.com/vanmoof/our-secrets-out-f21c1f03fdc8#.ietxmez43', '1', '0', 'pavel_lishin', '9/26/2016 3:19']\n",
      "['12578989', 'algorithmic music', 'http://cacm.acm.org/magazines/2011/7/109891-algorithmic-composition/fulltext', '1', '0', 'poindontcare', '9/26/2016 3:16']\n",
      "['12578979', 'How the Data Vault Enables the Next-Gen Data Warehouse and Data Lake', 'https://www.talend.com/blog/2016/05/12/talend-and-Â\\x93the-data-vaultÂ\\x94', '1', '0', 'markgainor1', '9/26/2016 3:14']\n",
      "\n",
      " The Hacker News dataset consists of 293119 rows\n"
     ]
    }
   ],
   "source": [
    "# opening hacker news file as a lists of list\n",
    "from csv import reader\n",
    "\n",
    "open_file = open('Hacker_news.csv',encoding=\"utf8\")\n",
    "read_file = reader(open_file)\n",
    "hn = list(read_file)\n",
    "\n",
    "hn_header = hn[0]\n",
    "hn = hn[1:]\n",
    "\n",
    "print(hn_header, '\\n')\n",
    "for ee in hn[:5]:\n",
    "    print(ee)\n",
    "    \n",
    "print(\"\\n\", \"The Hacker News dataset consists of\", len(hn), \"rows\")"
   ]
  },
  {
   "cell_type": "markdown",
   "metadata": {},
   "source": [
    "## Data cleaning\n",
    "\n",
    "After exploring the Hacker News dataset, I can see there are about 293,000 rows. Not all of these datas belong to Ask or Show HN which is predominantly what we're looking for. The latter two tags start with \"Ask HN\" or \"Show HN\" in their titles and for this project, I'll be focusing only on these two. Hence for data cleaning purposes, I'll be creating three empty lists to store relevant data respectively."
   ]
  },
  {
   "cell_type": "code",
   "execution_count": 2,
   "metadata": {},
   "outputs": [
    {
     "name": "stdout",
     "output_type": "stream",
     "text": [
      "Ask HN tags consists of 9139 posts\n",
      "Show HN tags consists of 10158 posts\n",
      "Other posts on HN are 273822 in numbers\n"
     ]
    }
   ],
   "source": [
    "ask_posts = [] # this list will contain all of the 'Ask hn' posts on hacker news\n",
    "show_posts = [] # this list will contain all of the 'Show hn' posts on hacker news\n",
    "other_posts = [] # will contain data which belong to neither of 'Ask' or 'Show'\n",
    "\n",
    "for ee in hn:\n",
    "    title = ee[1]\n",
    "    if title.lower().startswith('ask hn'):\n",
    "        ask_posts.append(ee)\n",
    "    elif title.lower().startswith('show hn'):\n",
    "        show_posts.append(ee)\n",
    "    else:\n",
    "        other_posts.append(ee)\n",
    "        \n",
    "# checking how much data we are left with in each list\n",
    "print(\"Ask HN tags consists of\", len(ask_posts), \"posts\")\n",
    "print(\"Show HN tags consists of\", len(show_posts), \"posts\")\n",
    "print(\"Other posts on HN are\", len(other_posts), \"in numbers\")"
   ]
  },
  {
   "cell_type": "markdown",
   "metadata": {},
   "source": [
    "We are left with 19,297 posts to work with. Our data is all in a clean, readable format for our first goal of determining which subject receives more comments. So let's begin."
   ]
  },
  {
   "cell_type": "markdown",
   "metadata": {},
   "source": [
    "## Analysis Part I: Average Comments & Points\n",
    "\n",
    "As stipulated our objectives are to check which type of posts are more popular; Ask HN or Show. For this purpose,  I will be calculating the average number of comments and points Ask HN and Show HN posts receive.\n",
    "\n",
    "### Ask HN Comments and Points"
   ]
  },
  {
   "cell_type": "code",
   "execution_count": 3,
   "metadata": {},
   "outputs": [
    {
     "name": "stdout",
     "output_type": "stream",
     "text": [
      "Ask HN posts have a total of 94986 comments. With each post averaging about 10.4 comments.\n"
     ]
    }
   ],
   "source": [
    "# creating variables for calculating average comments per post\n",
    "total_ask_comments = 0\n",
    "length = 0\n",
    "\n",
    "# looping through the respective list\n",
    "for ee in ask_posts:\n",
    "    num_comments = int(ee[4])\n",
    "    total_ask_comments += num_comments\n",
    "    length += 1\n",
    "    \n",
    "avg_ask_comments = total_ask_comments / length\n",
    "print(\"Ask HN posts have a total of\",(total_ask_comments), \"comments. With each post averaging about\", round(avg_ask_comments, 1), \"comments.\")"
   ]
  },
  {
   "cell_type": "code",
   "execution_count": 4,
   "metadata": {},
   "outputs": [
    {
     "name": "stdout",
     "output_type": "stream",
     "text": [
      "Ask HN posts have a total of 103378 points. With each post averaging about 11.3 points.\n"
     ]
    }
   ],
   "source": [
    "total_points = 0\n",
    "length = 0\n",
    "\n",
    "for ee in ask_posts:\n",
    "    num_points = int(ee[3])\n",
    "    total_points += num_points\n",
    "    length += 1\n",
    "    \n",
    "avg_ask_points = total_points/length\n",
    "print(\"Ask HN posts have a total of\",(total_points), \"points. With each post averaging about\", round(avg_ask_points, 1), \"points.\")"
   ]
  },
  {
   "cell_type": "markdown",
   "metadata": {},
   "source": [
    "### Show HN Comments and Points\n",
    "\n",
    "I have calculated average number of comments and points received by Ask HN posts. Now, I'll be repeating the process for Show HN posts."
   ]
  },
  {
   "cell_type": "code",
   "execution_count": 5,
   "metadata": {},
   "outputs": [
    {
     "name": "stdout",
     "output_type": "stream",
     "text": [
      "Show HN posts have a total of 49633 comments. With each post averaging about 4.9 comments.\n"
     ]
    }
   ],
   "source": [
    "total_show_comments = 0\n",
    "length = 0\n",
    "\n",
    "for ee in show_posts:\n",
    "    num_comments = int(ee[4])\n",
    "    total_show_comments += num_comments\n",
    "    length += 1\n",
    "    \n",
    "avg_show_comments = total_show_comments / length\n",
    "print(\"Show HN posts have a total of\",(total_show_comments), \"comments. With each post averaging about\", round(avg_show_comments, 1), \"comments.\")\n",
    "    "
   ]
  },
  {
   "cell_type": "code",
   "execution_count": 6,
   "metadata": {},
   "outputs": [
    {
     "name": "stdout",
     "output_type": "stream",
     "text": [
      "Show HN posts have a total of 150781 points. With each post averaging about 14.8 points.\n"
     ]
    }
   ],
   "source": [
    "total_points = 0\n",
    "length = 0\n",
    "\n",
    "for ee in show_posts:\n",
    "    num_points = int(ee[3])\n",
    "    total_points += num_points\n",
    "    length += 1\n",
    "    \n",
    "avg_show_points = total_points/length\n",
    "print(\"Show HN posts have a total of\",(total_points), \"points. With each post averaging about\", round(avg_show_points, 1), \"points.\")\n"
   ]
  },
  {
   "cell_type": "markdown",
   "metadata": {},
   "source": [
    "It appears that Ask HN posts receieve more comments and discussion compared to Show HN posts. There's a large difference of 45,353 comments. It appears that Ask HN is a much more popular subject for comments compared to the Show HN subject.\n",
    "\n",
    "However, Show HN receives more points compared to Ask HN. This average is only a difference of 3, though.\n",
    "\n",
    "While Show HN contains more posts, Ask HN has an average of 6 more comments per post compared to Show HN. I wonder if there are some posts with a large number of comments that are affecting this average."
   ]
  },
  {
   "cell_type": "markdown",
   "metadata": {},
   "source": [
    "### Skewed comments\n",
    "\n",
    "This part of analysis is to check whether certain posts (with large number of comments) are skewing up the information for our posts. In order to do this, I'll be creating two empty lists, each accounting for those posts which have more than 500 comments."
   ]
  },
  {
   "cell_type": "code",
   "execution_count": 7,
   "metadata": {},
   "outputs": [
    {
     "name": "stdout",
     "output_type": "stream",
     "text": [
      "Posts with over 500 Comments:\n",
      "\n",
      "Ask HN Posts : 19 \n",
      "Show HN Posts : 0\n"
     ]
    }
   ],
   "source": [
    "big_comments_ask = [] \n",
    "big_comments_show = []\n",
    "\n",
    "for ee in ask_posts:\n",
    "    comments = int(ee[4])\n",
    "    if comments > 500:\n",
    "        big_comments_ask.append(ee)\n",
    "        \n",
    "for ee in show_posts:\n",
    "    comments = int(ee[4])\n",
    "    if comments > 500:\n",
    "        big_comments_show.append(ee)\n",
    "        \n",
    "print(\"Posts with over 500 Comments:\" \"\\n\" \"\\n\"\n",
    "      \"Ask HN Posts :\", len(big_comments_ask), \"\\n\"\n",
    "      \"Show HN Posts :\", len(big_comments_show))"
   ]
  },
  {
   "cell_type": "markdown",
   "metadata": {},
   "source": [
    "Can notice that there are 19 Ask HN posts with over 500 comments; whilst 0 exists for Show HN posts. Though 19 is a small number, I will find a new average for Ask HN posts excluding those of the greater than 500 comment posts. "
   ]
  },
  {
   "cell_type": "code",
   "execution_count": 8,
   "metadata": {},
   "outputs": [
    {
     "name": "stdout",
     "output_type": "stream",
     "text": [
      "Fixed Ask HN Average Comments : 8.8\n"
     ]
    }
   ],
   "source": [
    "# finding the new average for Ask HN posts.  Not calculating for Show HN posts as average doesn't change.\n",
    "under_500_comments = 0\n",
    "under_500_total = 0\n",
    "under_500_avg = 0\n",
    "\n",
    "for row in ask_posts:\n",
    "    comments = int(row[4])\n",
    "    if comments < 500:\n",
    "        under_500_comments += comments\n",
    "        under_500_total += 1\n",
    "\n",
    "under_500_avg = under_500_comments / under_500_total\n",
    "\n",
    "print(\"Fixed Ask HN Average Comments :\", round(under_500_avg, 1))"
   ]
  },
  {
   "cell_type": "markdown",
   "metadata": {},
   "source": [
    "Ask HN posts still gather more comments compared to Show HN posts. Even when excluding the skewed part of the data, the average comments accumulated drops by 1.5 only (to 8.8). Hence, Ask HN gathers more comments in general and fairly a good number of points as well. "
   ]
  },
  {
   "cell_type": "markdown",
   "metadata": {},
   "source": [
    "## Analysis II:  Time of the Day\n",
    "\n",
    "Now I can begin with the second goal of finding the most popular time of day for posts receiving comments and points. With our Ask HN subject receiving almost double the number of comments compared to Show HN, I'll base the analysis around this data. I'll also use Ask HN for our points comparison, since the averages were similar and it'll increase readability.\n",
    "\n",
    "I'll first need to put all of the data into a readable and standard form, for this we'll use dictionaries. We only want the hour of day that posts and comments/points were made, so we can create two new lists with only this information."
   ]
  },
  {
   "cell_type": "code",
   "execution_count": 9,
   "metadata": {},
   "outputs": [
    {
     "name": "stdout",
     "output_type": "stream",
     "text": [
      "Post by the Hour \n",
      " {'02:00': 269, '01:00': 282, '22:00': 383, '21:00': 518, '19:00': 552, '17:00': 587, '15:00': 646, '14:00': 513, '13:00': 444, '11:00': 312, '10:00': 282, '09:00': 222, '07:00': 226, '03:00': 271, '23:00': 343, '20:00': 510, '16:00': 579, '08:00': 257, '00:00': 301, '18:00': 614, '12:00': 342, '04:00': 243, '06:00': 234, '05:00': 209}\n",
      "\n",
      "\n",
      "Comments by the Hour \n",
      " {'02:00': 2996, '01:00': 2089, '22:00': 3372, '21:00': 4500, '19:00': 3954, '17:00': 5547, '15:00': 18525, '14:00': 4972, '13:00': 7245, '11:00': 2797, '10:00': 3013, '09:00': 1477, '07:00': 1585, '03:00': 2154, '23:00': 2297, '20:00': 4462, '16:00': 4466, '08:00': 2362, '00:00': 2277, '18:00': 4877, '12:00': 4234, '04:00': 2360, '06:00': 1587, '05:00': 1838}\n"
     ]
    }
   ],
   "source": [
    "import datetime\n",
    "\n",
    "result_comment = []\n",
    "result_point = []\n",
    "\n",
    "for ee in ask_posts:\n",
    "    created_at = ee[6]\n",
    "    comments = int(ee[4])\n",
    "    points = int(ee[3])\n",
    "    result_comment.append([created_at, comments])\n",
    "    result_point.append([created_at, points])\n",
    "    \n",
    "    \n",
    "counts_by_hour = {}\n",
    "comments_by_hour = {}\n",
    "\n",
    "for ee in result_comment:\n",
    "    comments = ee[1]\n",
    "    dates = datetime.datetime.strptime(ee[0], \"%m/%d/%Y %H:%M\")\n",
    "    hour = dates.strftime(\"%H\")\n",
    "    hour = hour + \":00\"\n",
    "    \n",
    "    if hour not in counts_by_hour:\n",
    "        counts_by_hour[hour] = 1\n",
    "        comments_by_hour[hour] = comments\n",
    "        \n",
    "    elif hour in counts_by_hour:\n",
    "        counts_by_hour[hour] += 1\n",
    "        comments_by_hour[hour] += comments\n",
    "        \n",
    "print(\"Post by the Hour\",'\\n',counts_by_hour)\n",
    "print('\\n')\n",
    "print(\"Comments by the Hour\",'\\n',comments_by_hour)"
   ]
  },
  {
   "cell_type": "markdown",
   "metadata": {},
   "source": [
    "### Average Comments per Hour\n",
    "\n",
    "Now that we have information of the number of posts per hour as well as the comments accumulated, we can find the average number of comments attained per hour. For this purpose, I have created an empty list which will take input from the above two dictionaries created."
   ]
  },
  {
   "cell_type": "code",
   "execution_count": 10,
   "metadata": {},
   "outputs": [
    {
     "name": "stdout",
     "output_type": "stream",
     "text": [
      "Average number of comments per hour \n",
      " [['02:00', 11], ['01:00', 7], ['22:00', 8], ['21:00', 8], ['19:00', 7], ['17:00', 9], ['15:00', 28], ['14:00', 9], ['13:00', 16], ['11:00', 8], ['10:00', 10], ['09:00', 6], ['07:00', 7], ['03:00', 7], ['23:00', 6], ['20:00', 8], ['16:00', 7], ['08:00', 9], ['00:00', 7], ['18:00', 7], ['12:00', 12], ['04:00', 9], ['06:00', 6], ['05:00', 8]]\n"
     ]
    }
   ],
   "source": [
    "avg_comments_hour = []\n",
    "\n",
    "for key in counts_by_hour:\n",
    "    average = comments_by_hour[key] // counts_by_hour[key]\n",
    "    \n",
    "    avg_comments_hour.append([key, average])\n",
    "    \n",
    "print(\"Average number of comments per hour\",'\\n', avg_comments_hour)"
   ]
  },
  {
   "cell_type": "markdown",
   "metadata": {},
   "source": [
    "The information is displayed as required. However, the list is not readable as the data is distorted i.e hours are not listed chronologically; comments are not listed in a descending manner.\n",
    "In order to tackle this and make the information more readable, I will be creating an empty list which will present the highest average number of comments attained, from the best to the worst time."
   ]
  },
  {
   "cell_type": "code",
   "execution_count": 11,
   "metadata": {},
   "outputs": [
    {
     "name": "stdout",
     "output_type": "stream",
     "text": [
      "[[28, '15:00'], [16, '13:00'], [12, '12:00'], [11, '02:00'], [10, '10:00'], [9, '17:00'], [9, '14:00'], [9, '08:00'], [9, '04:00'], [8, '22:00'], [8, '21:00'], [8, '20:00'], [8, '11:00'], [8, '05:00'], [7, '19:00'], [7, '18:00'], [7, '16:00'], [7, '07:00'], [7, '03:00'], [7, '01:00'], [7, '00:00'], [6, '23:00'], [6, '09:00'], [6, '06:00']]\n"
     ]
    }
   ],
   "source": [
    "swap_avg_by_hour = [] # empty list\n",
    "\n",
    "for ee in avg_comments_hour:\n",
    "    swap_avg_by_hour.append([ee[1],ee[0]]) # appending the number of comments and time period to list to sort it later\n",
    "    \n",
    "sorted_swap = sorted(swap_avg_by_hour, reverse=True) # created a new variables which intakes our list in a sorted manner\n",
    "print(sorted_swap)"
   ]
  },
  {
   "cell_type": "markdown",
   "metadata": {},
   "source": [
    "This is our lists of list (sorted_swap) which provides the highest average comments per hour from the best to the worst timings of the day. We can make this even more presentable by highlighting the top 5 or the worst 3 timings for Ask HN comments."
   ]
  },
  {
   "cell_type": "code",
   "execution_count": 12,
   "metadata": {},
   "outputs": [
    {
     "name": "stdout",
     "output_type": "stream",
     "text": [
      "Top 5 best hours for Ask HN comments\n",
      "\n",
      "\n",
      "15:00: 28 average number of comments per post\n",
      "13:00: 16 average number of comments per post\n",
      "12:00: 12 average number of comments per post\n",
      "02:00: 11 average number of comments per post\n",
      "10:00: 10 average number of comments per post\n",
      "\n",
      "\n",
      "Top 5 worst hours for Ask HN comments\n",
      "\n",
      "\n",
      "23:00: 6 average number of comments per post\n",
      "09:00: 6 average number of comments per post\n",
      "06:00: 6 average number of comments per post\n"
     ]
    }
   ],
   "source": [
    "print(\"Top 5 best hours for Ask HN comments\")\n",
    "print('\\n')\n",
    "for row in sorted_swap[:5]:\n",
    "    statement = \"{0}: {1} average number of comments per post\"\n",
    "    print(statement.format(row[1],row[0]))\n",
    "    \n",
    "print('\\n')\n",
    "print(\"Top 5 worst hours for Ask HN comments\")\n",
    "print('\\n')\n",
    "for row in sorted_swap[-3:]:\n",
    "    statement = \"{0}: {1} average number of comments per post\"\n",
    "    print(statement.format(row[1],row[0]))"
   ]
  },
  {
   "cell_type": "markdown",
   "metadata": {},
   "source": [
    "It appears that 3 PM Eastern Time is when comments are most likely, with 2 AM and 8 PM in second and third place. The times with the least chance of comments is at 6 AM, 9 AM, and 11 PM. For the highest chance to receieve comments on your ask HM post, one should post at 3 PM EST, and avoid posting at 6 AM, 9 AM, and 11 PM EST."
   ]
  },
  {
   "cell_type": "markdown",
   "metadata": {},
   "source": [
    "### Average Points per Hour"
   ]
  },
  {
   "cell_type": "code",
   "execution_count": 13,
   "metadata": {},
   "outputs": [
    {
     "name": "stdout",
     "output_type": "stream",
     "text": [
      "\n",
      "\n",
      "Points by the Hour \n",
      " {'02:00': 2944, '01:00': 2662, '22:00': 3601, '21:00': 5042, '19:00': 4782, '17:00': 7155, '15:00': 13978, '14:00': 5390, '13:00': 7962, '11:00': 2856, '10:00': 3789, '09:00': 1763, '07:00': 2040, '03:00': 2539, '23:00': 2616, '20:00': 4491, '16:00': 5970, '08:00': 2744, '00:00': 2835, '18:00': 6850, '12:00': 4643, '04:00': 2650, '06:00': 2030, '05:00': 2046}\n"
     ]
    }
   ],
   "source": [
    "points_by_hour = {}\n",
    "\n",
    "for ee in result_point:\n",
    "    points = ee[1]\n",
    "    dates = datetime.datetime.strptime(ee[0], '%m/%d/%Y %H:%M')\n",
    "    hour = dates.strftime(\"%H\")\n",
    "    hour = hour + \":00\"\n",
    "    \n",
    "    if hour not in points_by_hour:\n",
    "        points_by_hour[hour] = points\n",
    "        \n",
    "    elif hour in points_by_hour:\n",
    "        points_by_hour[hour] += points\n",
    "        \n",
    "print('\\n')\n",
    "print(\"Points by the Hour\",'\\n',points_by_hour)"
   ]
  },
  {
   "cell_type": "code",
   "execution_count": 14,
   "metadata": {},
   "outputs": [
    {
     "name": "stdout",
     "output_type": "stream",
     "text": [
      "Average number of points per hour \n",
      " [['02:00', 10], ['01:00', 9], ['22:00', 9], ['21:00', 9], ['19:00', 8], ['17:00', 12], ['15:00', 21], ['14:00', 10], ['13:00', 17], ['11:00', 9], ['10:00', 13], ['09:00', 7], ['07:00', 9], ['03:00', 9], ['23:00', 7], ['20:00', 8], ['16:00', 10], ['08:00', 10], ['00:00', 9], ['18:00', 11], ['12:00', 13], ['04:00', 10], ['06:00', 8], ['05:00', 9]]\n"
     ]
    }
   ],
   "source": [
    "avg_points_hour = []\n",
    "\n",
    "for key in counts_by_hour:\n",
    "    average2 = points_by_hour[key] // counts_by_hour[key]\n",
    "    avg_points_hour.append([key, average2])\n",
    "\n",
    "print(\"Average number of points per hour\",'\\n', avg_points_hour)"
   ]
  },
  {
   "cell_type": "markdown",
   "metadata": {},
   "source": [
    "Got the result, but to make it more neat we will sort the list like we did for comments per hour."
   ]
  },
  {
   "cell_type": "code",
   "execution_count": 15,
   "metadata": {},
   "outputs": [
    {
     "name": "stdout",
     "output_type": "stream",
     "text": [
      "Top 5 best hours for Ask HN points\n",
      "\n",
      "\n",
      "15:00: 21 average number of points per post\n",
      "13:00: 17 average number of points per post\n",
      "12:00: 13 average number of points per post\n",
      "10:00: 13 average number of points per post\n",
      "17:00: 12 average number of points per post\n",
      "\n",
      "\n",
      "Top 5 worst hours for Ask HN points\n",
      "\n",
      "\n",
      "06:00: 8 average number of points per post\n",
      "23:00: 7 average number of points per post\n",
      "09:00: 7 average number of points per post\n"
     ]
    }
   ],
   "source": [
    "swap_avg_pts_by_hour = []\n",
    "\n",
    "for ee in avg_points_hour:\n",
    "    hour = ee[0]\n",
    "    avg = ee[1]\n",
    "    swap_avg_pts_by_hour.append([avg, hour])\n",
    "\n",
    "sorted_swap_pts = sorted(swap_avg_pts_by_hour, reverse=True)\n",
    "\n",
    "print(\"Top 5 best hours for Ask HN points\")\n",
    "print('\\n')\n",
    "for row in sorted_swap_pts[:5]:\n",
    "    statement = \"{0}: {1} average number of points per post\"\n",
    "    print(statement.format(row[1],row[0]))\n",
    "    \n",
    "print('\\n')\n",
    "print(\"Top 5 worst hours for Ask HN points\")\n",
    "print('\\n')\n",
    "for row in sorted_swap_pts[-3:]:\n",
    "    statement = \"{0}: {1} average number of points per post\"\n",
    "    print(statement.format(row[1],row[0]))"
   ]
  },
  {
   "cell_type": "markdown",
   "metadata": {},
   "source": [
    "## Conclusion\n",
    "\n",
    "Our inital goals were to answer our two questions of which subjects, between Ask HN and Show HN, receieve more comments on average, and what time of day has the greatest influence on number of comments.\n",
    "\n",
    "While our side goals were to answer these same questions, but relating to points.\n",
    "\n",
    "In conclusion, we have successfully answered all of our questions. Ask HM posts receive the most comments from the community, with almost double the number of comments compared to Show HM posts, and tend to have a greater chance of becoming viral. Show HM posts, however, receieve more points compared to Ask HM, though the averages are similar. To receive the most number of comments and points on an Ask HM post, one should post at 3 PM EST, when the user-base is most active."
   ]
  }
 ],
 "metadata": {
  "kernelspec": {
   "display_name": "Python 3",
   "language": "python",
   "name": "python3"
  },
  "language_info": {
   "codemirror_mode": {
    "name": "ipython",
    "version": 3
   },
   "file_extension": ".py",
   "mimetype": "text/x-python",
   "name": "python",
   "nbconvert_exporter": "python",
   "pygments_lexer": "ipython3",
   "version": "3.8.5"
  }
 },
 "nbformat": 4,
 "nbformat_minor": 4
}
